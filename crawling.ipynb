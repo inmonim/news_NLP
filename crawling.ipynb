{
 "cells": [
  {
   "cell_type": "code",
   "execution_count": 11,
   "metadata": {},
   "outputs": [],
   "source": [
    "from bs4 import BeautifulSoup\n",
    "import requests\n"
   ]
  },
  {
   "cell_type": "markdown",
   "metadata": {},
   "source": [
    "<h3> 네이버 뉴스 기사 크롤링을 위한 헤더값"
   ]
  },
  {
   "cell_type": "code",
   "execution_count": 12,
   "metadata": {},
   "outputs": [],
   "source": [
    "header = {\"user-agent\":\"Mozilla/5.0 (Windows NT 10.0; Win64; x64) AppleWebKit/537.36 (KHTML, like Gecko) Chrome/102.0.5005.63 Safari/537.36 Edg/102.0.1245.33\"}"
   ]
  },
  {
   "cell_type": "markdown",
   "metadata": {},
   "source": [
    "<h3> 네이버 뉴스 언론사별 헤드라인 뉴스 뽑아오기"
   ]
  },
  {
   "cell_type": "code",
   "execution_count": 150,
   "metadata": {},
   "outputs": [],
   "source": [
    "news_list = requests.get(\"https://news.naver.com/main/list.naver?mode=LPOD&mid=sec&oid=032&date=20220609&page=1\", headers=header)\n",
    "soup = BeautifulSoup(news_list.content, \"html.parser\")\n",
    "\n",
    "link = str(soup.find_all(attrs={'class':'nclicks(cnt_flashart)'})).split(' ')\n",
    "link_set = set()\n",
    "\n",
    "for i in link:\n",
    "    if i[0:4] == 'href':\n",
    "        link_set.add(i[i.find('''\"''')+1:i.find('''\"''', 6, 200)])\n",
    "\n",
    "link_list = sorted(list(link_set), reverse=True)"
   ]
  },
  {
   "cell_type": "markdown",
   "metadata": {},
   "source": [
    "<h3> 헤드라인 뉴스 내 제목, 내용 텍스트 크롤링"
   ]
  },
  {
   "cell_type": "code",
   "execution_count": 165,
   "metadata": {},
   "outputs": [],
   "source": [
    "head = []\n",
    "body = []\n",
    "\n",
    "for i in link_list:\n",
    "    webpage = requests.get(i, headers=header)\n",
    "    soup = BeautifulSoup(webpage.content, \"html.parser\")\n",
    "    head.append(soup.find_all('h2')[0].get_text())\n",
    "    if len(soup.find_all(attrs={'id':'dic_area'})) == 1:\n",
    "        body.append(soup.find_all(attrs={'id':'dic_area'})[0].get_text())\n",
    "    else:\n",
    "        body.append(soup.find_all(attrs={'id':'articeBody'})[0].get_text())\n"
   ]
  },
  {
   "cell_type": "markdown",
   "metadata": {},
   "source": [
    "<h4> 조사 목록"
   ]
  },
  {
   "cell_type": "code",
   "execution_count": 314,
   "metadata": {},
   "outputs": [],
   "source": [
    "조사 = ['은','는','이','가','을','를','에','뿐','만','과','와','고','의']\n",
    "조사2 = ['에서','까지','대로','부터', '다.']\n",
    "조사3 = ['이다.','했다.','었다.','한다.']"
   ]
  },
  {
   "cell_type": "markdown",
   "metadata": {},
   "source": [
    "<h4> 기사 내용 텍스트 split, 어절로 나눈 후 조사를 제거"
   ]
  },
  {
   "cell_type": "code",
   "execution_count": 323,
   "metadata": {},
   "outputs": [],
   "source": [
    "text = []\n",
    "cnt_dic = {}\n",
    "\n",
    "for i in body:\n",
    "    for j in i[5:-3].split(' '):\n",
    "        if j in ['.']:\n",
    "            j.split('.')\n",
    "        if j[-1:] in 조사:\n",
    "            text.append(j[:-1])\n",
    "        elif j[-2:] in 조사2:\n",
    "            text.append(j[:-2])\n",
    "        elif j[-3:] in 조사3:\n",
    "            text.append(j[:-3])\n",
    "        else:\n",
    "            text.append(j)\n",
    "    \n",
    "for i in text:\n",
    "    cnt_dic[i] = text.count(i)\n",
    "\n"
   ]
  },
  {
   "cell_type": "markdown",
   "metadata": {},
   "source": [
    "<h4> 지워야할 목록 추가"
   ]
  },
  {
   "cell_type": "code",
   "execution_count": 324,
   "metadata": {},
   "outputs": [],
   "source": [
    "del_data = ['','등','하','있다','것','수','전','말', '있']\n",
    "\n",
    "for i in del_data:\n",
    "    del(cnt_dic[i])"
   ]
  },
  {
   "cell_type": "markdown",
   "metadata": {},
   "source": [
    "<h4> 딕셔너리를 해시, max(cnt) 값의 인덱스를 word에 대조해서 가장 언급 빈도가 높은 단어 추출"
   ]
  },
  {
   "cell_type": "code",
   "execution_count": 325,
   "metadata": {},
   "outputs": [
    {
     "name": "stdout",
     "output_type": "stream",
     "text": [
      "24\n",
      "경제\n"
     ]
    }
   ],
   "source": [
    "cnt = []\n",
    "word = []\n",
    "\n",
    "for i, j in cnt_dic.items():\n",
    "    cnt.append(j)\n",
    "    word.append(i)\n",
    "print(max(cnt))\n",
    "print(word[cnt.index(max(cnt))])"
   ]
  },
  {
   "cell_type": "code",
   "execution_count": 129,
   "metadata": {},
   "outputs": [
    {
     "data": {
      "text/plain": [
       "'\\n \\n박훈정 감독의 <마녀2>에는 마녀 프로젝트의 완전체 모델 ‘소녀’(신시아)가 등장한다. NEW 제공.박훈정 감독의 <마녀2>가 지난 7일 언론·배급 시사회에서 공개됐다. 전작보다 더 많은 피가 뿌려졌다. 액션은 화려해졌다. 줄거리는 세계관을 확장하고 인물들을 소개하는 데 집중했다.<마녀2>는 배우 김다미 주연의 <마녀>(2018)의 연장선에 있다. 전편의 마지막 장면 배경이었던 제주도에서 이야기가 펼쳐진다. 폐쇄된 비밀연구소 ‘아크’가 습격당하면서 그 안에 갇혀있던 또 다른 실험체 ‘소녀’(신시아)가 세상 밖으로 나온다. 소녀는 전편의 마녀 구자윤(김다미)보다 더 강하고, 결함이 없는 완전체 모델이다. 경희(박은빈)는 외딴곳에서 소녀를 발견해 집으로 데려온다. 각자의 목적을 가진 초자연적인 존재들이 소녀가 머무는 경희의 집으로 몰려온다. \\n박훈정 감독. NEW  제공.액션신에 중점을 둔 모양새다. 통쾌하고 박진감이 넘친다. 특히 압도적인 스피드를 가진 ‘토우’들과 본사 요원 조현(서은수)의 부대원들이 대결하는 신이 인상적이다. 전편보다 더 넓은 공간에 더 입체적인 액션을 구현해냈다. 배우들의 와이어 액션은 기본이고, 눈으로도 따라가기 힘든 속도를 표현하기 위해 3D 캐릭터를 사용했다고 한다. 이날 상영 후 이어진 기자간담회에서 박 감독은 “만화를 보듯이 볼 수 있는 영화였으면 좋겠다고 생각을 했다”며 “초능력 캐릭터들의 특성상 사람이 실제로 움직일 수 없는 동선들이 많기 때문에 특수장비를 써도 표현하기 힘든 장면이 많았다”고 했다.전편이 후속편을 암시했다면, <마녀2>는 시리즈를 예고한다. 박 감독은 ‘마녀 유니버스’에 대한 애정을 내비쳤다. 그는 “<마녀> 시리즈에 등장한 캐릭터 수만큼 영화를 더 찍고 싶다. 나오지 않은 인물들, 풀지 못한 이야기가 많다”고 했다. 이어 “시리즈물의 조건은 무엇보다 캐릭터”라며 “관객들이 캐릭터를 궁금해해야 다음 이야기를 계속 만들 수 있다. 세계관을 확장하려면 조연까지 모든 캐릭터에게 서사가 있어야 하고, 그 서사와 캐릭터간의 관계가 궁금해져야 한다”고 했다.그러나 그의 세계관이나 캐릭터 설정이 독보적으로 보이지는 않는다. 위험한, 원시 상태의 미소녀·소년은 이미 여러 콘텐츠에서 변주됐다. 인간을 뛰어넘는 능력의 소유자가 자신을 돌봐 준 정의감 넘치는 이를 구하려 하는 서사 역시 기시감이 강하게 느껴진다. 세계로부터 오랜 기간 격리됐던 주인공이 속세의 먹을 거리에 집착하고 휴대전화나 광고판 등 디지털 문명에 신기해하는 장면으로 긴장감을 덜어내려는 시도는 진부하다. 소녀 외 다른 캐릭터들도 밋밋하다. 소녀를 보호하는 가족 경희와 대길(성유빈) 남매 묘사도 납작했다. 대길은 소녀에게 “와 씨X 너 X나 대박이다” “개쩐다”고 말하는데, 2020년대 고등학생은 이런 어휘를 구사하지 않는다. 박 감독은 시리즈에 대해 “더 센 캐릭터가 있다”고 예고했는데, 더 강한 캐릭터보다는 더 입체적인 캐릭터가 필요해 보인다.새로운 마녀의 얼굴로 발탁된 배우 신시아, 경희네 가족의 적인 깡패 용두를 연기한 진구, 소녀를 쫓는 본사 요원 조현을 맡은 서은수 등은 호연했다. 영화는 오는 15일 개봉한다. 엔딩 크레딧이 올라간 뒤 쿠키영상이 나온다. 상영시간 137분, 15세 관람가. \\n소녀(신시아)와 경희(박은빈)가 사는 집으로 찾아온 본사 요원 조현(서은수)과 톰(저스틴 하비). NEW 제공 \\n백총괄(조민수)과 장(이종석)은 서로 다른 목적으로 소녀(신시아)를 쫓는다. NEW 제공.\\n'"
      ]
     },
     "execution_count": 129,
     "metadata": {},
     "output_type": "execute_result"
    }
   ],
   "source": [
    "wep = requests.get(\"https://entertain.naver.com/read?oid=032&aid=0003152220\", headers=header)\n",
    "soup = BeautifulSoup(wep.content, \"html.parser\")\n",
    "soup.find_all('h2')[0].get_text()\n",
    "soup.find_all(attrs={'id':'articeBody'})[0].get_text()"
   ]
  },
  {
   "cell_type": "code",
   "execution_count": null,
   "metadata": {},
   "outputs": [],
   "source": [
    "for i in range(1,5):\n",
    "    "
   ]
  }
 ],
 "metadata": {
  "interpreter": {
   "hash": "90e22b77d03eb9406af4cf4045fcfcb4c981c14140e4d9cda6ac1d291b5a0938"
  },
  "kernelspec": {
   "display_name": "Python 3.9.7 ('news')",
   "language": "python",
   "name": "python3"
  },
  "language_info": {
   "codemirror_mode": {
    "name": "ipython",
    "version": 3
   },
   "file_extension": ".py",
   "mimetype": "text/x-python",
   "name": "python",
   "nbconvert_exporter": "python",
   "pygments_lexer": "ipython3",
   "version": "3.9.7"
  },
  "orig_nbformat": 4
 },
 "nbformat": 4,
 "nbformat_minor": 2
}
